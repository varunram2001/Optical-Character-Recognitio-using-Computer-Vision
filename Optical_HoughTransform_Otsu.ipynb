{
  "nbformat": 4,
  "nbformat_minor": 0,
  "metadata": {
    "colab": {
      "provenance": []
    },
    "kernelspec": {
      "name": "python3",
      "display_name": "Python 3"
    },
    "language_info": {
      "name": "python"
    }
  },
  "cells": [
    {
      "cell_type": "code",
      "execution_count": 2,
      "metadata": {
        "id": "Is9h4WBiPyZ1"
      },
      "outputs": [],
      "source": [
        "#Author: Varun Ram S\n",
        "#Outline Code ony\n",
        "import cv2\n",
        "import numpy as np\n",
        "\n",
        "def ocr_hough_otsu(image_path):\n",
        "    # Read the input image\n",
        "    img = cv2.imread(image_path, cv2.IMREAD_GRAYSCALE)\n",
        "\n",
        "    # Apply Otsu's thresholding to convert the image to binary\n",
        "    _, binary_img = cv2.threshold(img, 0, 255, cv2.THRESH_BINARY + cv2.THRESH_OTSU)\n",
        "\n",
        "    # Apply Hough Line Transform to detect the lines\n",
        "    lines = cv2.HoughLines(binary_img, 1, np.pi/180, threshold=100)\n",
        "\n",
        "    # Draw detected lines on the original image\n",
        "    if lines is not None:\n",
        "        for rho, theta in lines[:, 0]:\n",
        "            a = np.cos(theta)\n",
        "            b = np.sin(theta)\n",
        "            x0 = a * rho\n",
        "            y0 = b * rho\n",
        "            x1 = int(x0 + 1000 * (-b))\n",
        "            y1 = int(y0 + 1000 * (a))\n",
        "            x2 = int(x0 - 1000 * (-b))\n",
        "            y2 = int(y0 - 1000 * (a))\n",
        "            cv2.line(img, (x1, y1), (x2, y2), (0, 0, 255), 2)\n",
        "\n",
        "    # Display the result\n",
        "    cv2.imshow('OCR with Hough Transform and Otsu Binarization', img)\n",
        "    cv2.waitKey(0)\n",
        "    cv2.destroyAllWindows()\n",
        "\n",
        "if __name__ == \"__main__\":\n",
        "    image_path = 'D:/Varun/Images/TamilNaduHighwaysign.jpg'\n",
        "    ocr_hough_otsu(image_path)\n"
      ]
    },
    {
      "cell_type": "code",
      "source": [],
      "metadata": {
        "id": "ZzGKnYGFP6ot"
      },
      "execution_count": null,
      "outputs": []
    }
  ]
}